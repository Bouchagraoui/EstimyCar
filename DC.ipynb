{
 "cells": [
  {
   "cell_type": "code",
   "execution_count": 10,
   "metadata": {},
   "outputs": [],
   "source": [
    "from webscraping import import_marques_modeles, fusionner_fichiers_json\n",
    "from datacleaning import gazoduc, recup_marque_modele_generation, get_marque_modele_generation\n",
    "import polars as pl"
   ]
  },
  {
   "cell_type": "code",
   "execution_count": 2,
   "metadata": {},
   "outputs": [],
   "source": [
    "FICHIERS_JSON = [\"data_a_d.json\", \"data_e_l.json\", \"data_m_p.json\", \"data_r_z.json\"]\n",
    "\n",
    "nom_marques_modeles = import_marques_modeles()\n",
    "data_brutes = fusionner_fichiers_json(FICHIERS_JSON)"
   ]
  },
  {
   "cell_type": "code",
   "execution_count": 3,
   "metadata": {},
   "outputs": [],
   "source": [
    "data_brutes = pl.DataFrame(data_brutes)\n",
    "nom_marques_modeles = pl.DataFrame(nom_marques_modeles)"
   ]
  },
  {
   "cell_type": "code",
   "execution_count": 12,
   "metadata": {},
   "outputs": [
    {
     "data": {
      "text/plain": [
       "('CITROEN', 'C3', '2010')"
      ]
     },
     "execution_count": 12,
     "metadata": {},
     "output_type": "execute_result"
    }
   ],
   "source": [
    "row_example = (\"CITROEN C3 2010\",)\n",
    "nom_marques_modeles_example = pl.DataFrame({\n",
    "        \"marque\": [\"CITROEN\"],\n",
    "        \"modeles\": [[\"c3\"]]})\n",
    "recup_marque_modele_generation(row_example, nom_marques_modeles_example)\n",
    "        #('MERCEDES', '280 SL', '1971')"
   ]
  },
  {
   "cell_type": "code",
   "execution_count": 4,
   "metadata": {},
   "outputs": [
    {
     "data": {
      "text/plain": [
       "(308284, 10)"
      ]
     },
     "execution_count": 4,
     "metadata": {},
     "output_type": "execute_result"
    }
   ],
   "source": [
    "data_brutes.shape"
   ]
  },
  {
   "cell_type": "code",
   "execution_count": 5,
   "metadata": {},
   "outputs": [
    {
     "ename": "ComputeError",
     "evalue": "KeyboardInterrupt: ",
     "output_type": "error",
     "traceback": [
      "\u001b[1;31m---------------------------------------------------------------------------\u001b[0m",
      "\u001b[1;31mComputeError\u001b[0m                              Traceback (most recent call last)",
      "Cell \u001b[1;32mIn [5], line 1\u001b[0m\n\u001b[1;32m----> 1\u001b[0m data \u001b[38;5;241m=\u001b[39m \u001b[43mgazoduc\u001b[49m\u001b[43m(\u001b[49m\u001b[43mdata_brutes\u001b[49m\u001b[43m,\u001b[49m\u001b[43m \u001b[49m\u001b[43mnom_marques_modeles\u001b[49m\u001b[43m)\u001b[49m\n",
      "File \u001b[1;32mc:\\Users\\Hassa\\OneDrive\\Bureau\\Repos\\clean_carscraping\\DataCleaning\\datacleaning.py:119\u001b[0m, in \u001b[0;36mgazoduc\u001b[1;34m(data, nom_marques_modeles)\u001b[0m\n\u001b[0;32m    118\u001b[0m \u001b[38;5;28;01mdef\u001b[39;00m \u001b[38;5;21mgazoduc\u001b[39m(data: pl\u001b[38;5;241m.\u001b[39mDataFrame, nom_marques_modeles: pl\u001b[38;5;241m.\u001b[39mDataFrame) \u001b[38;5;241m-\u001b[39m\u001b[38;5;241m>\u001b[39m pl\u001b[38;5;241m.\u001b[39mDataFrame:\n\u001b[1;32m--> 119\u001b[0m     data \u001b[38;5;241m=\u001b[39m (\u001b[43mdata\u001b[49m\u001b[38;5;241;43m.\u001b[39;49m\u001b[43mpipe\u001b[49m\u001b[43m(\u001b[49m\u001b[43mget_marque_modele_generation\u001b[49m\u001b[43m,\u001b[49m\u001b[43m \u001b[49m\u001b[43mnom_marques_modeles\u001b[49m\u001b[43m)\u001b[49m\n\u001b[0;32m    120\u001b[0m             \u001b[38;5;241m.\u001b[39mpipe(get_km_prix_annee)\n\u001b[0;32m    121\u001b[0m             \u001b[38;5;241m.\u001b[39mpipe(get_garantie)\n\u001b[0;32m    122\u001b[0m             \u001b[38;5;241m.\u001b[39mpipe(get_cylindre)\n\u001b[0;32m    123\u001b[0m             \u001b[38;5;241m.\u001b[39mpipe(filter_data)\n\u001b[0;32m    124\u001b[0m             \u001b[38;5;241m.\u001b[39mpipe(supp_doublons)\n\u001b[0;32m    125\u001b[0m             \u001b[38;5;241m.\u001b[39mpipe(supp_na)\n\u001b[0;32m    126\u001b[0m     )\n\u001b[0;32m    127\u001b[0m     \u001b[38;5;28;01mreturn\u001b[39;00m data\n",
      "File \u001b[1;32mc:\\Users\\Hassa\\AppData\\Local\\Programs\\Python\\Python310\\lib\\site-packages\\polars\\dataframe\\frame.py:4982\u001b[0m, in \u001b[0;36mDataFrame.pipe\u001b[1;34m(self, function, *args, **kwargs)\u001b[0m\n\u001b[0;32m   4915\u001b[0m \u001b[38;5;28;01mdef\u001b[39;00m \u001b[38;5;21mpipe\u001b[39m(\n\u001b[0;32m   4916\u001b[0m     \u001b[38;5;28mself\u001b[39m,\n\u001b[0;32m   4917\u001b[0m     function: Callable[Concatenate[DataFrame, P], T],\n\u001b[0;32m   4918\u001b[0m     \u001b[38;5;241m*\u001b[39margs: P\u001b[38;5;241m.\u001b[39margs,\n\u001b[0;32m   4919\u001b[0m     \u001b[38;5;241m*\u001b[39m\u001b[38;5;241m*\u001b[39mkwargs: P\u001b[38;5;241m.\u001b[39mkwargs,\n\u001b[0;32m   4920\u001b[0m ) \u001b[38;5;241m-\u001b[39m\u001b[38;5;241m>\u001b[39m T:\n\u001b[0;32m   4921\u001b[0m     \u001b[38;5;124;03m\"\"\"\u001b[39;00m\n\u001b[0;32m   4922\u001b[0m \u001b[38;5;124;03m    Offers a structured way to apply a sequence of user-defined functions (UDFs).\u001b[39;00m\n\u001b[0;32m   4923\u001b[0m \n\u001b[1;32m   (...)\u001b[0m\n\u001b[0;32m   4980\u001b[0m \n\u001b[0;32m   4981\u001b[0m \u001b[38;5;124;03m    \"\"\"\u001b[39;00m\n\u001b[1;32m-> 4982\u001b[0m     \u001b[38;5;28;01mreturn\u001b[39;00m function(\u001b[38;5;28mself\u001b[39m, \u001b[38;5;241m*\u001b[39margs, \u001b[38;5;241m*\u001b[39m\u001b[38;5;241m*\u001b[39mkwargs)\n",
      "File \u001b[1;32mc:\\Users\\Hassa\\OneDrive\\Bureau\\Repos\\clean_carscraping\\DataCleaning\\datacleaning.py:25\u001b[0m, in \u001b[0;36mget_marque_modele_generation\u001b[1;34m(data, nom_marques_modeles)\u001b[0m\n\u001b[0;32m     23\u001b[0m \u001b[38;5;28;01mdef\u001b[39;00m \u001b[38;5;21mget_marque_modele_generation\u001b[39m(data: pl\u001b[38;5;241m.\u001b[39mDataFrame, nom_marques_modeles: pl\u001b[38;5;241m.\u001b[39mDataFrame) \u001b[38;5;241m-\u001b[39m\u001b[38;5;241m>\u001b[39m pl\u001b[38;5;241m.\u001b[39mDataFrame:\n\u001b[0;32m     24\u001b[0m     data \u001b[38;5;241m=\u001b[39m data\u001b[38;5;241m.\u001b[39mwith_columns(\n\u001b[1;32m---> 25\u001b[0m         \u001b[43mdata\u001b[49m\u001b[38;5;241;43m.\u001b[39;49m\u001b[43mselect\u001b[49m\u001b[43m(\u001b[49m\u001b[43mpl\u001b[49m\u001b[38;5;241;43m.\u001b[39;49m\u001b[43mcol\u001b[49m\u001b[43m(\u001b[49m\u001b[38;5;124;43m'\u001b[39;49m\u001b[38;5;124;43mmarque\u001b[39;49m\u001b[38;5;124;43m'\u001b[39;49m\u001b[43m)\u001b[49m\u001b[43m)\u001b[49m\u001b[38;5;241;43m.\u001b[39;49m\u001b[43mmap_rows\u001b[49m\u001b[43m(\u001b[49m\u001b[38;5;28;43;01mlambda\u001b[39;49;00m\u001b[43m \u001b[49m\u001b[43mrow\u001b[49m\u001b[43m:\u001b[49m\u001b[43m \u001b[49m\u001b[43mrecup_marque_modele_generation\u001b[49m\u001b[43m(\u001b[49m\u001b[43mrow\u001b[49m\u001b[43m,\u001b[49m\u001b[43m \u001b[49m\u001b[43mnom_marques_modeles\u001b[49m\u001b[43m)\u001b[49m\u001b[43m)\u001b[49m\n\u001b[0;32m     26\u001b[0m     )\u001b[38;5;241m.\u001b[39mdrop(\u001b[38;5;124m\"\u001b[39m\u001b[38;5;124mmarque\u001b[39m\u001b[38;5;124m\"\u001b[39m)\u001b[38;5;241m.\u001b[39mrename({\u001b[38;5;124m\"\u001b[39m\u001b[38;5;124mcolumn_0\u001b[39m\u001b[38;5;124m\"\u001b[39m : \u001b[38;5;124m\"\u001b[39m\u001b[38;5;124mmarque\u001b[39m\u001b[38;5;124m\"\u001b[39m, \u001b[38;5;124m\"\u001b[39m\u001b[38;5;124mcolumn_1\u001b[39m\u001b[38;5;124m\"\u001b[39m : \u001b[38;5;124m\"\u001b[39m\u001b[38;5;124mmodele\u001b[39m\u001b[38;5;124m\"\u001b[39m, \u001b[38;5;124m\"\u001b[39m\u001b[38;5;124mcolumn_2\u001b[39m\u001b[38;5;124m\"\u001b[39m : \u001b[38;5;124m\"\u001b[39m\u001b[38;5;124mgeneration\u001b[39m\u001b[38;5;124m\"\u001b[39m})\n\u001b[0;32m     27\u001b[0m     \u001b[38;5;28;01mreturn\u001b[39;00m data\n",
      "File \u001b[1;32mc:\\Users\\Hassa\\AppData\\Local\\Programs\\Python\\Python310\\lib\\site-packages\\polars\\dataframe\\frame.py:6170\u001b[0m, in \u001b[0;36mDataFrame.map_rows\u001b[1;34m(self, function, return_dtype, inference_size)\u001b[0m\n\u001b[0;32m   6080\u001b[0m \u001b[38;5;124;03m\"\"\"\u001b[39;00m\n\u001b[0;32m   6081\u001b[0m \u001b[38;5;124;03mApply a custom/user-defined function (UDF) over the rows of the DataFrame.\u001b[39;00m\n\u001b[0;32m   6082\u001b[0m \n\u001b[1;32m   (...)\u001b[0m\n\u001b[0;32m   6164\u001b[0m \n\u001b[0;32m   6165\u001b[0m \u001b[38;5;124;03m\"\"\"\u001b[39;00m\n\u001b[0;32m   6166\u001b[0m \u001b[38;5;66;03m# TODO: Enable warning for inefficient map\u001b[39;00m\n\u001b[0;32m   6167\u001b[0m \u001b[38;5;66;03m# from polars.utils.udfs import warn_on_inefficient_map\u001b[39;00m\n\u001b[0;32m   6168\u001b[0m \u001b[38;5;66;03m# warn_on_inefficient_map(function, columns=self.columns, map_target=\"frame)\u001b[39;00m\n\u001b[1;32m-> 6170\u001b[0m out, is_df \u001b[38;5;241m=\u001b[39m \u001b[38;5;28;43mself\u001b[39;49m\u001b[38;5;241;43m.\u001b[39;49m\u001b[43m_df\u001b[49m\u001b[38;5;241;43m.\u001b[39;49m\u001b[43mmap_rows\u001b[49m\u001b[43m(\u001b[49m\u001b[43mfunction\u001b[49m\u001b[43m,\u001b[49m\u001b[43m \u001b[49m\u001b[43mreturn_dtype\u001b[49m\u001b[43m,\u001b[49m\u001b[43m \u001b[49m\u001b[43minference_size\u001b[49m\u001b[43m)\u001b[49m\n\u001b[0;32m   6171\u001b[0m \u001b[38;5;28;01mif\u001b[39;00m is_df:\n\u001b[0;32m   6172\u001b[0m     \u001b[38;5;28;01mreturn\u001b[39;00m \u001b[38;5;28mself\u001b[39m\u001b[38;5;241m.\u001b[39m_from_pydf(out)\n",
      "\u001b[1;31mComputeError\u001b[0m: KeyboardInterrupt: "
     ]
    }
   ],
   "source": [
    "data = gazoduc(data_brutes, nom_marques_modeles)"
   ]
  },
  {
   "cell_type": "code",
   "execution_count": null,
   "metadata": {},
   "outputs": [
    {
     "data": {
      "text/plain": [
       "(271520, 16)"
      ]
     },
     "execution_count": 6,
     "metadata": {},
     "output_type": "execute_result"
    }
   ],
   "source": [
    "data.shape"
   ]
  },
  {
   "cell_type": "code",
   "execution_count": 7,
   "metadata": {},
   "outputs": [
    {
     "data": {
      "text/html": [
       "<div><style>\n",
       ".dataframe > thead > tr > th,\n",
       ".dataframe > tbody > tr > td {\n",
       "  text-align: right;\n",
       "  white-space: pre-wrap;\n",
       "}\n",
       "</style>\n",
       "<small>shape: (1, 16)</small><table border=\"1\" class=\"dataframe\"><thead><tr><th>annee</th><th>kilometrage</th><th>boite</th><th>energie</th><th>prix</th><th>position_marché</th><th>garantie</th><th>lien</th><th>marque</th><th>modele</th><th>generation</th><th>cylindre</th><th>moteur</th><th>puissance</th><th>finition</th><th>batterie</th></tr><tr><td>u32</td><td>u32</td><td>u32</td><td>u32</td><td>u32</td><td>u32</td><td>u32</td><td>u32</td><td>u32</td><td>u32</td><td>u32</td><td>u32</td><td>u32</td><td>u32</td><td>u32</td><td>u32</td></tr></thead><tbody><tr><td>0</td><td>0</td><td>0</td><td>0</td><td>0</td><td>0</td><td>0</td><td>0</td><td>0</td><td>0</td><td>0</td><td>13491</td><td>51870</td><td>0</td><td>3107</td><td>258021</td></tr></tbody></table></div>"
      ],
      "text/plain": [
       "shape: (1, 16)\n",
       "┌───────┬─────────────┬───────┬─────────┬───┬────────┬───────────┬──────────┬──────────┐\n",
       "│ annee ┆ kilometrage ┆ boite ┆ energie ┆ … ┆ moteur ┆ puissance ┆ finition ┆ batterie │\n",
       "│ ---   ┆ ---         ┆ ---   ┆ ---     ┆   ┆ ---    ┆ ---       ┆ ---      ┆ ---      │\n",
       "│ u32   ┆ u32         ┆ u32   ┆ u32     ┆   ┆ u32    ┆ u32       ┆ u32      ┆ u32      │\n",
       "╞═══════╪═════════════╪═══════╪═════════╪═══╪════════╪═══════════╪══════════╪══════════╡\n",
       "│ 0     ┆ 0           ┆ 0     ┆ 0       ┆ … ┆ 51870  ┆ 0         ┆ 3107     ┆ 258021   │\n",
       "└───────┴─────────────┴───────┴─────────┴───┴────────┴───────────┴──────────┴──────────┘"
      ]
     },
     "execution_count": 7,
     "metadata": {},
     "output_type": "execute_result"
    }
   ],
   "source": [
    "data.null_count()"
   ]
  },
  {
   "cell_type": "code",
   "execution_count": null,
   "metadata": {},
   "outputs": [],
   "source": [
    "data.write_parquet('data/database.parquet')"
   ]
  },
  {
   "cell_type": "code",
   "execution_count": 6,
   "metadata": {},
   "outputs": [],
   "source": [
    "import duckdb"
   ]
  },
  {
   "cell_type": "code",
   "execution_count": 19,
   "metadata": {},
   "outputs": [],
   "source": [
    "data = duckdb.sql(\n",
    "    \"\"\"\n",
    "SELECT *\n",
    "FROM 'data/database.parquet'\n",
    "    \"\"\"\n",
    ").pl()"
   ]
  },
  {
   "cell_type": "markdown",
   "metadata": {},
   "source": [
    "# test imputation cylindre + puissance"
   ]
  },
  {
   "cell_type": "markdown",
   "metadata": {},
   "source": [
    "```python\n",
    "from pandas import DataFrame as pandasDataFrame\n",
    "class ImputerCylindrePuissance:\n",
    "    def __init__(self, data: pandasDataFrame, target_features=['cylindre', 'puissance'], categorical_features=['marque', 'modele', 'generation', 'finition', 'annee', 'energie', 'batterie', 'boite']):\n",
    "        self.data = data.copy()\n",
    "        self.target_features = target_features\n",
    "        self.categorical_features = categorical_features\n",
    "        self.missing_rows_index = self.data[self.data[self.target_features].isnull().any(axis=1)].index.to_numpy()\n",
    "\n",
    "    def impute(self):\n",
    "        # Filtrer les lignes avec des valeurs manquantes dans les colonnes cibles\n",
    "\n",
    "        for index, row in self.data[self.data[self.target_features].isnull().any(axis=1)].iterrows():\n",
    "            # Sélection des observations similaires\n",
    "            similar_obs = self.data[\n",
    "                (self.data['marque'] == row['marque']) &\n",
    "                (self.data['modele'] == row['modele']) &\n",
    "                (self.data['annee'] == row['annee']) & \n",
    "                (self.data['energie'] == row['energie']) & \n",
    "                (self.data['boite'] == row['boite']) &\n",
    "                (self.data['generation'] == row['generation']) \n",
    "            ]\n",
    "            similar_obs1 = similar_obs.loc[similar_obs.index != index]\n",
    "            if not similar_obs1.empty:\n",
    "                for feature in self.target_features:\n",
    "                    self.data.at[index, feature] = similar_obs1.iloc[0][feature]\n",
    "    \n",
    "        return self.data\n",
    "imputer = ImputerCylindrePuissance(data.to_pandas())\n",
    "imputed_data = imputer.impute()\n",
    "imputed_data\n",
    "```"
   ]
  }
 ],
 "metadata": {
  "kernelspec": {
   "display_name": "Python 3",
   "language": "python",
   "name": "python3"
  },
  "language_info": {
   "codemirror_mode": {
    "name": "ipython",
    "version": 3
   },
   "file_extension": ".py",
   "mimetype": "text/x-python",
   "name": "python",
   "nbconvert_exporter": "python",
   "pygments_lexer": "ipython3",
   "version": "3.10.7"
  }
 },
 "nbformat": 4,
 "nbformat_minor": 2
}
