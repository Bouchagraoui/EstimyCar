{
 "cells": [
  {
   "cell_type": "code",
   "execution_count": 1,
   "metadata": {},
   "outputs": [],
   "source": [
    "from webscraping import import_marques_modeles\n",
    "from machinelearning import *\n",
    "import polars as pl\n",
    "import duckdb"
   ]
  },
  {
   "cell_type": "code",
   "execution_count": 7,
   "metadata": {},
   "outputs": [],
   "source": [
    "nom_marques_modeles = pl.DataFrame(import_marques_modeles())\n",
    "data = duckdb.sql(\"\"\"\n",
    "                  SELECT * \n",
    "                  FROM 'data/database.parquet'\n",
    "                  \"\"\").pl()"
   ]
  },
  {
   "cell_type": "code",
   "execution_count": 21,
   "metadata": {},
   "outputs": [],
   "source": [
    "# Exemple de listes pour chaque colonne\n",
    "annee = [2006, 2020]\n",
    "kilometrage = [102754, 16900]\n",
    "boite = ['Manuelle', 'Automatique']\n",
    "energie = ['Essence', 'Essence']\n",
    "marque = ['PORSHE', 'PORSCHE']\n",
    "modele = ['BOXSTR', '911']\n",
    "generation = ['II', 'NA']\n",
    "cylindre = ['3.2', '3.0']\n",
    "moteur = ['S', 'CARRERA 4S']\n",
    "puissance = [280, 450]\n",
    "finition = ['TYPE 87', 'TYPE 992 CABRIOLET']\n",
    "batterie = ['null', 'null']\n",
    "\n",
    "# Création d'un pl.DataFrame\n",
    "df = pl.DataFrame({\n",
    "    'annee': annee,\n",
    "    'kilometrage': kilometrage,\n",
    "    'boite': boite,\n",
    "    'energie': energie,\n",
    "    'marque': marque,\n",
    "    'modele': modele,\n",
    "    'generation': generation,\n",
    "    'cylindre': cylindre,\n",
    "    'moteur': moteur,\n",
    "    'puissance': puissance,\n",
    "    'finition': finition,\n",
    "    'batterie': batterie\n",
    "})"
   ]
  },
  {
   "cell_type": "code",
   "execution_count": 5,
   "metadata": {},
   "outputs": [
    {
     "data": {
      "text/html": [
       "<div><style>\n",
       ".dataframe > thead > tr > th,\n",
       ".dataframe > tbody > tr > td {\n",
       "  text-align: right;\n",
       "  white-space: pre-wrap;\n",
       "}\n",
       "</style>\n",
       "<small>shape: (2, 12)</small><table border=\"1\" class=\"dataframe\"><thead><tr><th>annee</th><th>kilometrage</th><th>boite</th><th>energie</th><th>marque</th><th>modele</th><th>generation</th><th>cylindre</th><th>moteur</th><th>puissance</th><th>finition</th><th>batterie</th></tr><tr><td>i64</td><td>i64</td><td>str</td><td>str</td><td>str</td><td>str</td><td>str</td><td>str</td><td>str</td><td>i64</td><td>str</td><td>str</td></tr></thead><tbody><tr><td>2006</td><td>102754</td><td>&quot;Manuelle&quot;</td><td>&quot;Essence&quot;</td><td>&quot;PORSHE&quot;</td><td>&quot;BOXSTR&quot;</td><td>&quot;II&quot;</td><td>&quot;3.2&quot;</td><td>&quot;S&quot;</td><td>280</td><td>&quot;TYPE87&quot;</td><td>&quot;null&quot;</td></tr><tr><td>2020</td><td>16900</td><td>&quot;Automatique&quot;</td><td>&quot;Essence&quot;</td><td>&quot;PORSCHE&quot;</td><td>&quot;911&quot;</td><td>&quot;NA&quot;</td><td>&quot;3.0&quot;</td><td>&quot;CARRERA 4S&quot;</td><td>450</td><td>&quot;TYPE 992 CABRI…</td><td>&quot;null&quot;</td></tr></tbody></table></div>"
      ],
      "text/plain": [
       "shape: (2, 12)\n",
       "┌───────┬─────────────┬─────────────┬─────────┬───┬────────────┬───────────┬────────────┬──────────┐\n",
       "│ annee ┆ kilometrage ┆ boite       ┆ energie ┆ … ┆ moteur     ┆ puissance ┆ finition   ┆ batterie │\n",
       "│ ---   ┆ ---         ┆ ---         ┆ ---     ┆   ┆ ---        ┆ ---       ┆ ---        ┆ ---      │\n",
       "│ i64   ┆ i64         ┆ str         ┆ str     ┆   ┆ str        ┆ i64       ┆ str        ┆ str      │\n",
       "╞═══════╪═════════════╪═════════════╪═════════╪═══╪════════════╪═══════════╪════════════╪══════════╡\n",
       "│ 2006  ┆ 102754      ┆ Manuelle    ┆ Essence ┆ … ┆ S          ┆ 280       ┆ TYPE87     ┆ null     │\n",
       "│ 2020  ┆ 16900       ┆ Automatique ┆ Essence ┆ … ┆ CARRERA 4S ┆ 450       ┆ TYPE 992   ┆ null     │\n",
       "│       ┆             ┆             ┆         ┆   ┆            ┆           ┆ CABRIOLET  ┆          │\n",
       "└───────┴─────────────┴─────────────┴─────────┴───┴────────────┴───────────┴────────────┴──────────┘"
      ]
     },
     "execution_count": 5,
     "metadata": {},
     "output_type": "execute_result"
    }
   ],
   "source": [
    "df"
   ]
  },
  {
   "cell_type": "code",
   "execution_count": 22,
   "metadata": {},
   "outputs": [
    {
     "data": {
      "text/plain": [
       "array([[ 35044.02483134],\n",
       "       [191100.88566665]])"
      ]
     },
     "execution_count": 22,
     "metadata": {},
     "output_type": "execute_result"
    }
   ],
   "source": [
    "predict_prix(df, \"PORSCHE\")"
   ]
  },
  {
   "cell_type": "code",
   "execution_count": 3,
   "metadata": {},
   "outputs": [],
   "source": [
    "top = duckdb.sql(\n",
    "    \"\"\"\n",
    "    SELECT COUNT(*) as nb_annonces,\n",
    "    marque\n",
    "    FROM 'data/database.parquet'\n",
    "    GROUP BY marque\n",
    "    ORDER BY nb_annonces DESC\n",
    "    \"\"\").pl().head(40)"
   ]
  }
 ],
 "metadata": {
  "kernelspec": {
   "display_name": "Python 3",
   "language": "python",
   "name": "python3"
  },
  "language_info": {
   "codemirror_mode": {
    "name": "ipython",
    "version": 3
   },
   "file_extension": ".py",
   "mimetype": "text/x-python",
   "name": "python",
   "nbconvert_exporter": "python",
   "pygments_lexer": "ipython3",
   "version": "3.10.7"
  }
 },
 "nbformat": 4,
 "nbformat_minor": 2
}
